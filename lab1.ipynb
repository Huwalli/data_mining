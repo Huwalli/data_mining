{
 "cells": [
  {
   "cell_type": "code",
   "execution_count": 4,
   "id": "2edcb4af",
   "metadata": {},
   "outputs": [
    {
     "name": "stdout",
     "output_type": "stream",
     "text": [
      "^C\n",
      "Note: you may need to restart the kernel to use updated packages.\n"
     ]
    }
   ],
   "source": [
    "pip install requests "
   ]
  },
  {
   "cell_type": "code",
   "execution_count": null,
   "id": "30cf9893",
   "metadata": {},
   "outputs": [],
   "source": [
    "#這邊是先試跑的程式"
   ]
  },
  {
   "cell_type": "code",
   "execution_count": 8,
   "id": "6267934a",
   "metadata": {},
   "outputs": [
    {
     "name": "stdout",
     "output_type": "stream",
     "text": [
      "{\"choices\":[{\"content_filter_results\":{\"hate\":{\"filtered\":false,\"severity\":\"safe\"},\"self_harm\":{\"filtered\":false,\"severity\":\"safe\"},\"sexual\":{\"filtered\":false,\"severity\":\"safe\"},\"violence\":{\"filtered\":false,\"severity\":\"safe\"}},\"finish_reason\":\"stop\",\"index\":0,\"logprobs\":null,\"message\":{\"content\":\"[\\n    {\\n        \\\"customerId\\\": \\\"c1\\\",\\n        \\\"recommendations\\\": [\\n            {\\n                \\\"restaurantId\\\": \\\"r1\\\",\\n                \\\"predictedRating\\\": 2.33\\n            },\\n            {\\n                \\\"restaurantId\\\": \\\"r4\\\",\\n                \\\"predictedRating\\\": 2.33\\n            }\\n        ]\\n    },\\n    {\\n        \\\"customerId\\\": \\\"c2\\\",\\n        \\\"recommendations\\\": [\\n            {\\n                \\\"restaurantId\\\": \\\"r2\\\",\\n                \\\"predictedRating\\\": 2.0\\n            },\\n            {\\n                \\\"restaurantId\\\": \\\"r4\\\",\\n                \\\"predictedRating\\\": 2.0\\n            }\\n        ]\\n    },\\n    {\\n        \\\"customerId\\\": \\\"c3\\\",\\n        \\\"recommendations\\\": [\\n            {\\n                \\\"restaurantId\\\": \\\"r1\\\",\\n                \\\"predictedRating\\\": 2.33\\n            },\\n            {\\n                \\\"restaurantId\\\": \\\"r2\\\",\\n                \\\"predictedRating\\\": 2.33\\n            }\\n        ]\\n    },\\n    {\\n        \\\"customerId\\\": \\\"c4\\\",\\n        \\\"recommendations\\\": [\\n            {\\n                \\\"restaurantId\\\": \\\"r2\\\",\\n                \\\"predictedRating\\\": 2.33\\n            },\\n            {\\n                \\\"restaurantId\\\": \\\"r3\\\",\\n                \\\"predictedRating\\\": 2.33\\n            },\\n            {\\n                \\\"restaurantId\\\": \\\"r6\\\",\\n                \\\"predictedRating\\\": 2.33\\n            }\\n        ]\\n    },\\n    {\\n        \\\"customerId\\\": \\\"c5\\\",\\n        \\\"recommendations\\\": [\\n            {\\n                \\\"restaurantId\\\": \\\"r1\\\",\\n                \\\"predictedRating\\\": 2.33\\n            },\\n            {\\n                \\\"restaurantId\\\": \\\"r6\\\",\\n                \\\"predictedRating\\\": 2.33\\n            }\\n        ]\\n    },\\n    {\\n        \\\"customerId\\\": \\\"c6\\\",\\n        \\\"recommendations\\\": [\\n            {\\n                \\\"restaurantId\\\": \\\"r1\\\",\\n                \\\"predictedRating\\\": 2.0\\n            },\\n            {\\n                \\\"restaurantId\\\": \\\"r4\\\",\\n                \\\"predictedRating\\\": 2.0\\n            }\\n        ]\\n    },\\n    {\\n        \\\"customerId\\\": \\\"c7\\\",\\n        \\\"recommendations\\\": [\\n            {\\n                \\\"restaurantId\\\": \\\"r1\\\",\\n                \\\"predictedRating\\\": 2.0\\n            },\\n            {\\n                \\\"restaurantId\\\": \\\"r5\\\",\\n                \\\"predictedRating\\\": 2.0\\n            }\\n        ]\\n    },\\n    {\\n        \\\"customerId\\\": \\\"c8\\\",\\n        \\\"recommendations\\\": [\\n            {\\n                \\\"restaurantId\\\": \\\"r3\\\",\\n                \\\"predictedRating\\\": 2.33\\n            },\\n            {\\n                \\\"restaurantId\\\": \\\"r4\\\",\\n                \\\"predictedRating\\\": 2.33\\n            }\\n        ]\\n    }\\n]\",\"role\":\"assistant\"}}],\"created\":1711380382,\"id\":\"chatcmpl-96gVKsI3MYkfP1ngOgfyWh794jT2U\",\"model\":\"gpt-35-turbo\",\"object\":\"chat.completion\",\"prompt_filter_results\":[{\"prompt_index\":0,\"content_filter_results\":{\"hate\":{\"filtered\":false,\"severity\":\"safe\"},\"self_harm\":{\"filtered\":false,\"severity\":\"safe\"},\"sexual\":{\"filtered\":false,\"severity\":\"safe\"},\"violence\":{\"filtered\":false,\"severity\":\"safe\"}}}],\"system_fingerprint\":null,\"usage\":{\"completion_tokens\":553,\"prompt_tokens\":267,\"total_tokens\":820}}\n",
      "\n"
     ]
    }
   ],
   "source": [
    "import requests\n",
    "\n",
    "url = \"https://lab1huwalli.openai.azure.com/openai/deployments/lab1/chat/completions?api-version=2024-02-15-preview\"\n",
    "# 我是使用自己的api跟金鑰\n",
    "headers = {\n",
    "    \"Content-Type\": \"application/json\",\n",
    "    \"api-key\": \"641ba1d4a7c3430bb2af0000ca17c3da\"\n",
    "}\n",
    "data = {\n",
    "    \"messages\": [\n",
    "        {\"role\": \"system\", \"content\": \"根據 `` 中提供的 rating.csv 資料，用協同過濾的概念推薦餐廳給使用者  ，請以 json array 格式回答\\n\\`\\ncustomerId,restaurantId,rating\\nc1,r2,3\\nc1,r3,1\\nc1,r5,3\\nc1,r6,2\\nc2,r1,3\\nc2,r3,1\\nc2,r5,1\\nc2,r6,1\\nc3,r4,3\\nc3,r5,3\\nc3,r6,3\\nc4,r1,1\\nc4,r4,1\\nc4,r5,3\\nc5,r2,1\\nc5,r3,2\\nc5,r4,3\\nc6,r2,3\\nc6,r3,3\\nc6,r5,3\\nc7,r2,3\\nc7,r3,3\\nc7,r4,1\\nc8,r1,2\\nc8,r2,1\\nc8,r5,1\\nc8,r6,2\\n\\`\"},\n",
    "\n",
    "    ],\n",
    "    \"max_tokens\": 800,\n",
    "    \"temperature\": 0.5,\n",
    "    \"frequency_penalty\": 0,\n",
    "    \"presence_penalty\": 0,\n",
    "    \"top_p\": 0.95,\n",
    "    \"stop\": None\n",
    "}\n",
    "response = requests.post(url, json=data, headers=headers)\n",
    "\n",
    "print(response.text)"
   ]
  },
  {
   "cell_type": "code",
   "execution_count": null,
   "id": "73546be6",
   "metadata": {},
   "outputs": [],
   "source": [
    "# 這邊是有通過試跑的修改程式"
   ]
  },
  {
   "cell_type": "code",
   "execution_count": 7,
   "id": "eb2ab264",
   "metadata": {},
   "outputs": [
    {
     "name": "stdout",
     "output_type": "stream",
     "text": [
      "{\"choices\":[{\"content_filter_results\":{\"hate\":{\"filtered\":false,\"severity\":\"safe\"},\"self_harm\":{\"filtered\":false,\"severity\":\"safe\"},\"sexual\":{\"filtered\":false,\"severity\":\"safe\"},\"violence\":{\"filtered\":false,\"severity\":\"safe\"}},\"finish_reason\":\"stop\",\"index\":0,\"logprobs\":null,\"message\":{\"content\":\"以下為完整答案：\\n\\nc1: [r3, r2]\\nc2: [r4, r2]\\nc3: [r2, r5]\\nc4: [r5, r6]\\nc5: [r1, r6]\\nc6: [r4, r5]\\nc7: [r6, r1]\\nc8: [r3, r4]\",\"role\":\"assistant\"}}],\"created\":1711380280,\"id\":\"chatcmpl-96gTgCmQ7fJUskei2NhFiHe6BfSEV\",\"model\":\"gpt-35-turbo\",\"object\":\"chat.completion\",\"prompt_filter_results\":[{\"prompt_index\":0,\"content_filter_results\":{\"hate\":{\"filtered\":false,\"severity\":\"safe\"},\"self_harm\":{\"filtered\":false,\"severity\":\"safe\"},\"sexual\":{\"filtered\":false,\"severity\":\"safe\"},\"violence\":{\"filtered\":false,\"severity\":\"safe\"}}}],\"system_fingerprint\":null,\"usage\":{\"completion_tokens\":90,\"prompt_tokens\":318,\"total_tokens\":408}}\n",
      "\n"
     ]
    }
   ],
   "source": [
    "import requests\n",
    "\n",
    "url = \"https://lab1huwalli.openai.azure.com/openai/deployments/lab1/chat/completions?api-version=2024-02-15-preview\"\n",
    "headers = {\n",
    "    \"Content-Type\": \"application/json\",\n",
    "    \"api-key\": \"641ba1d4a7c3430bb2af0000ca17c3da\"\n",
    "}\n",
    "data = {\n",
    "    \"messages\": [\n",
    "        {\"role\": \"system\", \"content\": \"根據 `` 中提供的 rating.csv 資料，用協同過濾的概念推薦餐廳給使用者  ，請以 json array 格式回答\\n\\`\\ncustomerId,restaurantId,rating\\nc1,r2,3\\nc1,r3,1\\nc1,r5,3\\nc1,r6,2\\nc2,r1,3\\nc2,r3,1\\nc2,r5,1\\nc2,r6,1\\nc3,r4,3\\nc3,r5,3\\nc3,r6,3\\nc4,r1,1\\nc4,r4,1\\nc4,r5,3\\nc5,r2,1\\nc5,r3,2\\nc5,r4,3\\nc6,r2,3\\nc6,r3,3\\nc6,r5,3\\nc7,r2,3\\nc7,r3,3\\nc7,r4,1\\nc8,r1,2\\nc8,r2,1\\nc8,r5,1\\nc8,r6,2\\n\\`\"},\n",
    "        {\"role\": \"user\", \"content\": \"c1\"},\n",
    "        {\"role\": \"assistant\", \"content\": \"[r3,r2]\"},\n",
    "        {\"role\": \"user\", \"content\": \"c3\"},\n",
    "        {\"role\": \"assistant\", \"content\": \"[r2,r5]\"},\n",
    "        {\"role\": \"user\", \"content\": \"c5\"},\n",
    "        {\"role\": \"assistant\", \"content\": \"[r1,r6]\"},\n",
    "    ],\n",
    "    \"max_tokens\": 800,\n",
    "    \"temperature\": 0.5,\n",
    "    \"frequency_penalty\": 0,\n",
    "    \"presence_penalty\": 0,\n",
    "    \"top_p\": 0.95,\n",
    "    \"stop\": None\n",
    "}\n",
    "response = requests.post(url, json=data, headers=headers)\n",
    "\n",
    "print(response.text)"
   ]
  }
 ],
 "metadata": {
  "kernelspec": {
   "display_name": "Python 3 (ipykernel)",
   "language": "python",
   "name": "python3"
  },
  "language_info": {
   "codemirror_mode": {
    "name": "ipython",
    "version": 3
   },
   "file_extension": ".py",
   "mimetype": "text/x-python",
   "name": "python",
   "nbconvert_exporter": "python",
   "pygments_lexer": "ipython3",
   "version": "3.9.13"
  }
 },
 "nbformat": 4,
 "nbformat_minor": 5
}
