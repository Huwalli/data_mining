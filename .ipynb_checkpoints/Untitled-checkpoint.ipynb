{
 "cells": [
  {
   "cell_type": "code",
   "execution_count": 1,
   "id": "37b032ec",
   "metadata": {},
   "outputs": [
    {
     "name": "stdout",
     "output_type": "stream",
     "text": [
      "Collecting openai==0.28.1\n",
      "  Downloading openai-0.28.1-py3-none-any.whl (76 kB)\n",
      "     -------------------------------------- 77.0/77.0 kB 533.7 kB/s eta 0:00:00\n",
      "Collecting num2words\n",
      "  Downloading num2words-0.5.13-py3-none-any.whl (143 kB)\n",
      "     -------------------------------------- 143.3/143.3 kB 1.1 MB/s eta 0:00:00\n",
      "Requirement already satisfied: matplotlib in c:\\users\\huwalli\\anaconda3\\lib\\site-packages (3.5.2)\n",
      "Requirement already satisfied: plotly in c:\\users\\huwalli\\anaconda3\\lib\\site-packages (5.9.0)\n",
      "Requirement already satisfied: scipy in c:\\users\\huwalli\\anaconda3\\lib\\site-packages (1.9.1)\n",
      "Requirement already satisfied: scikit-learn in c:\\users\\huwalli\\anaconda3\\lib\\site-packages (1.0.2)\n",
      "Requirement already satisfied: pandas in c:\\users\\huwalli\\anaconda3\\lib\\site-packages (1.4.4)\n",
      "Collecting tiktoken\n",
      "  Downloading tiktoken-0.6.0-cp39-cp39-win_amd64.whl (798 kB)\n",
      "     ------------------------------------ 798.7/798.7 kB 855.2 kB/s eta 0:00:00\n",
      "Requirement already satisfied: tqdm in c:\\users\\huwalli\\anaconda3\\lib\\site-packages (from openai==0.28.1) (4.64.1)\n",
      "Requirement already satisfied: requests>=2.20 in c:\\users\\huwalli\\anaconda3\\lib\\site-packages (from openai==0.28.1) (2.28.1)\n",
      "Requirement already satisfied: aiohttp in c:\\users\\huwalli\\anaconda3\\lib\\site-packages (from openai==0.28.1) (3.8.4)\n",
      "Collecting docopt>=0.6.2\n",
      "  Downloading docopt-0.6.2.tar.gz (25 kB)\n",
      "  Preparing metadata (setup.py): started\n",
      "  Preparing metadata (setup.py): finished with status 'done'\n",
      "Requirement already satisfied: fonttools>=4.22.0 in c:\\users\\huwalli\\anaconda3\\lib\\site-packages (from matplotlib) (4.25.0)\n",
      "Requirement already satisfied: pillow>=6.2.0 in c:\\users\\huwalli\\anaconda3\\lib\\site-packages (from matplotlib) (9.2.0)\n",
      "Requirement already satisfied: cycler>=0.10 in c:\\users\\huwalli\\anaconda3\\lib\\site-packages (from matplotlib) (0.11.0)\n",
      "Requirement already satisfied: kiwisolver>=1.0.1 in c:\\users\\huwalli\\anaconda3\\lib\\site-packages (from matplotlib) (1.4.2)\n",
      "Requirement already satisfied: python-dateutil>=2.7 in c:\\users\\huwalli\\anaconda3\\lib\\site-packages (from matplotlib) (2.8.2)\n",
      "Requirement already satisfied: numpy>=1.17 in c:\\users\\huwalli\\anaconda3\\lib\\site-packages (from matplotlib) (1.21.5)\n",
      "Requirement already satisfied: pyparsing>=2.2.1 in c:\\users\\huwalli\\anaconda3\\lib\\site-packages (from matplotlib) (3.0.9)\n",
      "Requirement already satisfied: packaging>=20.0 in c:\\users\\huwalli\\anaconda3\\lib\\site-packages (from matplotlib) (21.3)\n",
      "Requirement already satisfied: tenacity>=6.2.0 in c:\\users\\huwalli\\anaconda3\\lib\\site-packages (from plotly) (8.0.1)\n",
      "Requirement already satisfied: threadpoolctl>=2.0.0 in c:\\users\\huwalli\\anaconda3\\lib\\site-packages (from scikit-learn) (2.2.0)\n",
      "Requirement already satisfied: joblib>=0.11 in c:\\users\\huwalli\\anaconda3\\lib\\site-packages (from scikit-learn) (1.1.0)\n",
      "Requirement already satisfied: pytz>=2020.1 in c:\\users\\huwalli\\anaconda3\\lib\\site-packages (from pandas) (2022.1)\n",
      "Requirement already satisfied: regex>=2022.1.18 in c:\\users\\huwalli\\anaconda3\\lib\\site-packages (from tiktoken) (2022.7.9)\n",
      "Requirement already satisfied: six>=1.5 in c:\\users\\huwalli\\anaconda3\\lib\\site-packages (from python-dateutil>=2.7->matplotlib) (1.16.0)\n",
      "Requirement already satisfied: charset-normalizer<3,>=2 in c:\\users\\huwalli\\anaconda3\\lib\\site-packages (from requests>=2.20->openai==0.28.1) (2.0.4)\n",
      "Requirement already satisfied: idna<4,>=2.5 in c:\\users\\huwalli\\anaconda3\\lib\\site-packages (from requests>=2.20->openai==0.28.1) (3.3)\n",
      "Requirement already satisfied: certifi>=2017.4.17 in c:\\users\\huwalli\\anaconda3\\lib\\site-packages (from requests>=2.20->openai==0.28.1) (2022.9.14)\n",
      "Requirement already satisfied: urllib3<1.27,>=1.21.1 in c:\\users\\huwalli\\anaconda3\\lib\\site-packages (from requests>=2.20->openai==0.28.1) (1.26.11)\n",
      "Requirement already satisfied: attrs>=17.3.0 in c:\\users\\huwalli\\anaconda3\\lib\\site-packages (from aiohttp->openai==0.28.1) (21.4.0)\n",
      "Requirement already satisfied: aiosignal>=1.1.2 in c:\\users\\huwalli\\anaconda3\\lib\\site-packages (from aiohttp->openai==0.28.1) (1.3.1)\n",
      "Requirement already satisfied: async-timeout<5.0,>=4.0.0a3 in c:\\users\\huwalli\\anaconda3\\lib\\site-packages (from aiohttp->openai==0.28.1) (4.0.2)\n",
      "Requirement already satisfied: yarl<2.0,>=1.0 in c:\\users\\huwalli\\anaconda3\\lib\\site-packages (from aiohttp->openai==0.28.1) (1.8.2)\n",
      "Requirement already satisfied: multidict<7.0,>=4.5 in c:\\users\\huwalli\\anaconda3\\lib\\site-packages (from aiohttp->openai==0.28.1) (6.0.4)\n",
      "Requirement already satisfied: frozenlist>=1.1.1 in c:\\users\\huwalli\\anaconda3\\lib\\site-packages (from aiohttp->openai==0.28.1) (1.3.3)\n",
      "Requirement already satisfied: colorama in c:\\users\\huwalli\\anaconda3\\lib\\site-packages (from tqdm->openai==0.28.1) (0.4.5)\n",
      "Building wheels for collected packages: docopt\n",
      "  Building wheel for docopt (setup.py): started\n",
      "  Building wheel for docopt (setup.py): finished with status 'done'\n",
      "  Created wheel for docopt: filename=docopt-0.6.2-py2.py3-none-any.whl size=13706 sha256=62fe31b9f3544c64c905ca05c681cf75de6c2227fbf4ff4b3ec9263770530ffa\n",
      "  Stored in directory: c:\\users\\huwalli\\appdata\\local\\pip\\cache\\wheels\\70\\4a\\46\\1309fc853b8d395e60bafaf1b6df7845bdd82c95fd59dd8d2b\n",
      "Successfully built docopt\n",
      "Installing collected packages: docopt, num2words, tiktoken, openai\n",
      "  Attempting uninstall: openai\n",
      "    Found existing installation: openai 0.27.2\n",
      "    Uninstalling openai-0.27.2:\n",
      "      Successfully uninstalled openai-0.27.2\n",
      "Successfully installed docopt-0.6.2 num2words-0.5.13 openai-0.28.1 tiktoken-0.6.0\n",
      "Note: you may need to restart the kernel to use updated packages.\n"
     ]
    }
   ],
   "source": [
    "pip install \"openai==0.28.1\" num2words matplotlib plotly scipy scikit-learn pandas tiktoken"
   ]
  },
  {
   "cell_type": "code",
   "execution_count": 4,
   "id": "7a71aead",
   "metadata": {},
   "outputs": [],
   "source": [
    "import requests\n",
    "\n",
    "url = \"https://raw.githubusercontent.com/Azure-Samples/Azure-OpenAI-Docs-Samples/main/Samples/Tutorials/Embeddings/data/bill_sum_data.csv\"\n",
    "response = requests.get(url)\n",
    "\n",
    "# 将文件保存到本地\n",
    "with open(\"bill_sum_data.csv\", \"wb\") as f:\n",
    "    f.write(response.content)\n"
   ]
  },
  {
   "cell_type": "code",
   "execution_count": null,
   "id": "d0bb4b2a",
   "metadata": {},
   "outputs": [],
   "source": []
  }
 ],
 "metadata": {
  "kernelspec": {
   "display_name": "Python 3 (ipykernel)",
   "language": "python",
   "name": "python3"
  },
  "language_info": {
   "codemirror_mode": {
    "name": "ipython",
    "version": 3
   },
   "file_extension": ".py",
   "mimetype": "text/x-python",
   "name": "python",
   "nbconvert_exporter": "python",
   "pygments_lexer": "ipython3",
   "version": "3.9.13"
  }
 },
 "nbformat": 4,
 "nbformat_minor": 5
}
